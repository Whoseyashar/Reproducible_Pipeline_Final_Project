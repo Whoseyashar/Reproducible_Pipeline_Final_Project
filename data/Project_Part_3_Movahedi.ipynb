{
 "cells": [
  {
   "cell_type": "markdown",
   "metadata": {
    "id": "TDfewngP4NCC",
    "pycharm": {
     "name": "#%% md\n"
    }
   },
   "source": [
    "# Project Part 3: Adversarial, Transferability and Robustification\n",
    "\n"
   ]
  },
  {
   "cell_type": "markdown",
   "metadata": {
    "id": "yfLSN2Lr1spr"
   },
   "source": [
    "We recommand you to use Google Colab to edit and run this notebook. You can also install jupyter on your own computer."
   ]
  },
  {
   "cell_type": "code",
   "execution_count": 1,
   "metadata": {
    "id": "6TZpU6QwAYp6",
    "pycharm": {
     "name": "#%%\n"
    }
   },
   "outputs": [],
   "source": [
    "import torch\n",
    "import numpy as np\n",
    "from sklearn.datasets import fetch_openml\n",
    "from torch import nn\n",
    "import torch.nn.functional as F\n",
    "\n",
    "from sklearn.model_selection import train_test_split\n",
    "from torch.utils.data import DataLoader, TensorDataset\n",
    "from tqdm import tqdm\n",
    "from sklearn.metrics import accuracy_score\n",
    "import matplotlib.pyplot as plt\n"
   ]
  },
  {
   "cell_type": "markdown",
   "metadata": {
    "id": "UmdwipDFgh90"
   },
   "source": [
    "## 0. Prepare data\n",
    "\n",
    "You can familiarise yourself with MNIST, a small size dataset, on its Wikipedia article [https://en.wikipedia.org/wiki/MNIST_database](https://en.wikipedia.org/wiki/MNIST_database). MNIST is composed of 28x28 grayscaled images of handwritten digits. This is a classification task with 10 classes (10 digits)."
   ]
  },
  {
   "cell_type": "code",
   "execution_count": 6,
   "metadata": {
    "id": "IcmjJHdxBDuZ",
    "pycharm": {
     "name": "#%%\n"
    }
   },
   "outputs": [],
   "source": [
    "# Data Loading\n",
    "mnist = fetch_openml('mnist_784', as_frame=False, cache=True)\n"
   ]
  },
  {
   "cell_type": "code",
   "execution_count": 7,
   "metadata": {
    "id": "HdRM7qC3KBiI",
    "pycharm": {
     "name": "#%%\n"
    }
   },
   "outputs": [],
   "source": [
    "x = mnist[\"data\"]\n",
    "y = mnist[\"target\"]"
   ]
  },
  {
   "cell_type": "code",
   "execution_count": 8,
   "metadata": {},
   "outputs": [
    {
     "data": {
      "text/plain": [
       "{'data': array([[0, 0, 0, ..., 0, 0, 0],\n",
       "        [0, 0, 0, ..., 0, 0, 0],\n",
       "        [0, 0, 0, ..., 0, 0, 0],\n",
       "        ...,\n",
       "        [0, 0, 0, ..., 0, 0, 0],\n",
       "        [0, 0, 0, ..., 0, 0, 0],\n",
       "        [0, 0, 0, ..., 0, 0, 0]], dtype=int64),\n",
       " 'target': array(['5', '0', '4', ..., '4', '5', '6'], dtype=object),\n",
       " 'frame': None,\n",
       " 'categories': {'class': ['0', '1', '2', '3', '4', '5', '6', '7', '8', '9']},\n",
       " 'feature_names': ['pixel1',\n",
       "  'pixel2',\n",
       "  'pixel3',\n",
       "  'pixel4',\n",
       "  'pixel5',\n",
       "  'pixel6',\n",
       "  'pixel7',\n",
       "  'pixel8',\n",
       "  'pixel9',\n",
       "  'pixel10',\n",
       "  'pixel11',\n",
       "  'pixel12',\n",
       "  'pixel13',\n",
       "  'pixel14',\n",
       "  'pixel15',\n",
       "  'pixel16',\n",
       "  'pixel17',\n",
       "  'pixel18',\n",
       "  'pixel19',\n",
       "  'pixel20',\n",
       "  'pixel21',\n",
       "  'pixel22',\n",
       "  'pixel23',\n",
       "  'pixel24',\n",
       "  'pixel25',\n",
       "  'pixel26',\n",
       "  'pixel27',\n",
       "  'pixel28',\n",
       "  'pixel29',\n",
       "  'pixel30',\n",
       "  'pixel31',\n",
       "  'pixel32',\n",
       "  'pixel33',\n",
       "  'pixel34',\n",
       "  'pixel35',\n",
       "  'pixel36',\n",
       "  'pixel37',\n",
       "  'pixel38',\n",
       "  'pixel39',\n",
       "  'pixel40',\n",
       "  'pixel41',\n",
       "  'pixel42',\n",
       "  'pixel43',\n",
       "  'pixel44',\n",
       "  'pixel45',\n",
       "  'pixel46',\n",
       "  'pixel47',\n",
       "  'pixel48',\n",
       "  'pixel49',\n",
       "  'pixel50',\n",
       "  'pixel51',\n",
       "  'pixel52',\n",
       "  'pixel53',\n",
       "  'pixel54',\n",
       "  'pixel55',\n",
       "  'pixel56',\n",
       "  'pixel57',\n",
       "  'pixel58',\n",
       "  'pixel59',\n",
       "  'pixel60',\n",
       "  'pixel61',\n",
       "  'pixel62',\n",
       "  'pixel63',\n",
       "  'pixel64',\n",
       "  'pixel65',\n",
       "  'pixel66',\n",
       "  'pixel67',\n",
       "  'pixel68',\n",
       "  'pixel69',\n",
       "  'pixel70',\n",
       "  'pixel71',\n",
       "  'pixel72',\n",
       "  'pixel73',\n",
       "  'pixel74',\n",
       "  'pixel75',\n",
       "  'pixel76',\n",
       "  'pixel77',\n",
       "  'pixel78',\n",
       "  'pixel79',\n",
       "  'pixel80',\n",
       "  'pixel81',\n",
       "  'pixel82',\n",
       "  'pixel83',\n",
       "  'pixel84',\n",
       "  'pixel85',\n",
       "  'pixel86',\n",
       "  'pixel87',\n",
       "  'pixel88',\n",
       "  'pixel89',\n",
       "  'pixel90',\n",
       "  'pixel91',\n",
       "  'pixel92',\n",
       "  'pixel93',\n",
       "  'pixel94',\n",
       "  'pixel95',\n",
       "  'pixel96',\n",
       "  'pixel97',\n",
       "  'pixel98',\n",
       "  'pixel99',\n",
       "  'pixel100',\n",
       "  'pixel101',\n",
       "  'pixel102',\n",
       "  'pixel103',\n",
       "  'pixel104',\n",
       "  'pixel105',\n",
       "  'pixel106',\n",
       "  'pixel107',\n",
       "  'pixel108',\n",
       "  'pixel109',\n",
       "  'pixel110',\n",
       "  'pixel111',\n",
       "  'pixel112',\n",
       "  'pixel113',\n",
       "  'pixel114',\n",
       "  'pixel115',\n",
       "  'pixel116',\n",
       "  'pixel117',\n",
       "  'pixel118',\n",
       "  'pixel119',\n",
       "  'pixel120',\n",
       "  'pixel121',\n",
       "  'pixel122',\n",
       "  'pixel123',\n",
       "  'pixel124',\n",
       "  'pixel125',\n",
       "  'pixel126',\n",
       "  'pixel127',\n",
       "  'pixel128',\n",
       "  'pixel129',\n",
       "  'pixel130',\n",
       "  'pixel131',\n",
       "  'pixel132',\n",
       "  'pixel133',\n",
       "  'pixel134',\n",
       "  'pixel135',\n",
       "  'pixel136',\n",
       "  'pixel137',\n",
       "  'pixel138',\n",
       "  'pixel139',\n",
       "  'pixel140',\n",
       "  'pixel141',\n",
       "  'pixel142',\n",
       "  'pixel143',\n",
       "  'pixel144',\n",
       "  'pixel145',\n",
       "  'pixel146',\n",
       "  'pixel147',\n",
       "  'pixel148',\n",
       "  'pixel149',\n",
       "  'pixel150',\n",
       "  'pixel151',\n",
       "  'pixel152',\n",
       "  'pixel153',\n",
       "  'pixel154',\n",
       "  'pixel155',\n",
       "  'pixel156',\n",
       "  'pixel157',\n",
       "  'pixel158',\n",
       "  'pixel159',\n",
       "  'pixel160',\n",
       "  'pixel161',\n",
       "  'pixel162',\n",
       "  'pixel163',\n",
       "  'pixel164',\n",
       "  'pixel165',\n",
       "  'pixel166',\n",
       "  'pixel167',\n",
       "  'pixel168',\n",
       "  'pixel169',\n",
       "  'pixel170',\n",
       "  'pixel171',\n",
       "  'pixel172',\n",
       "  'pixel173',\n",
       "  'pixel174',\n",
       "  'pixel175',\n",
       "  'pixel176',\n",
       "  'pixel177',\n",
       "  'pixel178',\n",
       "  'pixel179',\n",
       "  'pixel180',\n",
       "  'pixel181',\n",
       "  'pixel182',\n",
       "  'pixel183',\n",
       "  'pixel184',\n",
       "  'pixel185',\n",
       "  'pixel186',\n",
       "  'pixel187',\n",
       "  'pixel188',\n",
       "  'pixel189',\n",
       "  'pixel190',\n",
       "  'pixel191',\n",
       "  'pixel192',\n",
       "  'pixel193',\n",
       "  'pixel194',\n",
       "  'pixel195',\n",
       "  'pixel196',\n",
       "  'pixel197',\n",
       "  'pixel198',\n",
       "  'pixel199',\n",
       "  'pixel200',\n",
       "  'pixel201',\n",
       "  'pixel202',\n",
       "  'pixel203',\n",
       "  'pixel204',\n",
       "  'pixel205',\n",
       "  'pixel206',\n",
       "  'pixel207',\n",
       "  'pixel208',\n",
       "  'pixel209',\n",
       "  'pixel210',\n",
       "  'pixel211',\n",
       "  'pixel212',\n",
       "  'pixel213',\n",
       "  'pixel214',\n",
       "  'pixel215',\n",
       "  'pixel216',\n",
       "  'pixel217',\n",
       "  'pixel218',\n",
       "  'pixel219',\n",
       "  'pixel220',\n",
       "  'pixel221',\n",
       "  'pixel222',\n",
       "  'pixel223',\n",
       "  'pixel224',\n",
       "  'pixel225',\n",
       "  'pixel226',\n",
       "  'pixel227',\n",
       "  'pixel228',\n",
       "  'pixel229',\n",
       "  'pixel230',\n",
       "  'pixel231',\n",
       "  'pixel232',\n",
       "  'pixel233',\n",
       "  'pixel234',\n",
       "  'pixel235',\n",
       "  'pixel236',\n",
       "  'pixel237',\n",
       "  'pixel238',\n",
       "  'pixel239',\n",
       "  'pixel240',\n",
       "  'pixel241',\n",
       "  'pixel242',\n",
       "  'pixel243',\n",
       "  'pixel244',\n",
       "  'pixel245',\n",
       "  'pixel246',\n",
       "  'pixel247',\n",
       "  'pixel248',\n",
       "  'pixel249',\n",
       "  'pixel250',\n",
       "  'pixel251',\n",
       "  'pixel252',\n",
       "  'pixel253',\n",
       "  'pixel254',\n",
       "  'pixel255',\n",
       "  'pixel256',\n",
       "  'pixel257',\n",
       "  'pixel258',\n",
       "  'pixel259',\n",
       "  'pixel260',\n",
       "  'pixel261',\n",
       "  'pixel262',\n",
       "  'pixel263',\n",
       "  'pixel264',\n",
       "  'pixel265',\n",
       "  'pixel266',\n",
       "  'pixel267',\n",
       "  'pixel268',\n",
       "  'pixel269',\n",
       "  'pixel270',\n",
       "  'pixel271',\n",
       "  'pixel272',\n",
       "  'pixel273',\n",
       "  'pixel274',\n",
       "  'pixel275',\n",
       "  'pixel276',\n",
       "  'pixel277',\n",
       "  'pixel278',\n",
       "  'pixel279',\n",
       "  'pixel280',\n",
       "  'pixel281',\n",
       "  'pixel282',\n",
       "  'pixel283',\n",
       "  'pixel284',\n",
       "  'pixel285',\n",
       "  'pixel286',\n",
       "  'pixel287',\n",
       "  'pixel288',\n",
       "  'pixel289',\n",
       "  'pixel290',\n",
       "  'pixel291',\n",
       "  'pixel292',\n",
       "  'pixel293',\n",
       "  'pixel294',\n",
       "  'pixel295',\n",
       "  'pixel296',\n",
       "  'pixel297',\n",
       "  'pixel298',\n",
       "  'pixel299',\n",
       "  'pixel300',\n",
       "  'pixel301',\n",
       "  'pixel302',\n",
       "  'pixel303',\n",
       "  'pixel304',\n",
       "  'pixel305',\n",
       "  'pixel306',\n",
       "  'pixel307',\n",
       "  'pixel308',\n",
       "  'pixel309',\n",
       "  'pixel310',\n",
       "  'pixel311',\n",
       "  'pixel312',\n",
       "  'pixel313',\n",
       "  'pixel314',\n",
       "  'pixel315',\n",
       "  'pixel316',\n",
       "  'pixel317',\n",
       "  'pixel318',\n",
       "  'pixel319',\n",
       "  'pixel320',\n",
       "  'pixel321',\n",
       "  'pixel322',\n",
       "  'pixel323',\n",
       "  'pixel324',\n",
       "  'pixel325',\n",
       "  'pixel326',\n",
       "  'pixel327',\n",
       "  'pixel328',\n",
       "  'pixel329',\n",
       "  'pixel330',\n",
       "  'pixel331',\n",
       "  'pixel332',\n",
       "  'pixel333',\n",
       "  'pixel334',\n",
       "  'pixel335',\n",
       "  'pixel336',\n",
       "  'pixel337',\n",
       "  'pixel338',\n",
       "  'pixel339',\n",
       "  'pixel340',\n",
       "  'pixel341',\n",
       "  'pixel342',\n",
       "  'pixel343',\n",
       "  'pixel344',\n",
       "  'pixel345',\n",
       "  'pixel346',\n",
       "  'pixel347',\n",
       "  'pixel348',\n",
       "  'pixel349',\n",
       "  'pixel350',\n",
       "  'pixel351',\n",
       "  'pixel352',\n",
       "  'pixel353',\n",
       "  'pixel354',\n",
       "  'pixel355',\n",
       "  'pixel356',\n",
       "  'pixel357',\n",
       "  'pixel358',\n",
       "  'pixel359',\n",
       "  'pixel360',\n",
       "  'pixel361',\n",
       "  'pixel362',\n",
       "  'pixel363',\n",
       "  'pixel364',\n",
       "  'pixel365',\n",
       "  'pixel366',\n",
       "  'pixel367',\n",
       "  'pixel368',\n",
       "  'pixel369',\n",
       "  'pixel370',\n",
       "  'pixel371',\n",
       "  'pixel372',\n",
       "  'pixel373',\n",
       "  'pixel374',\n",
       "  'pixel375',\n",
       "  'pixel376',\n",
       "  'pixel377',\n",
       "  'pixel378',\n",
       "  'pixel379',\n",
       "  'pixel380',\n",
       "  'pixel381',\n",
       "  'pixel382',\n",
       "  'pixel383',\n",
       "  'pixel384',\n",
       "  'pixel385',\n",
       "  'pixel386',\n",
       "  'pixel387',\n",
       "  'pixel388',\n",
       "  'pixel389',\n",
       "  'pixel390',\n",
       "  'pixel391',\n",
       "  'pixel392',\n",
       "  'pixel393',\n",
       "  'pixel394',\n",
       "  'pixel395',\n",
       "  'pixel396',\n",
       "  'pixel397',\n",
       "  'pixel398',\n",
       "  'pixel399',\n",
       "  'pixel400',\n",
       "  'pixel401',\n",
       "  'pixel402',\n",
       "  'pixel403',\n",
       "  'pixel404',\n",
       "  'pixel405',\n",
       "  'pixel406',\n",
       "  'pixel407',\n",
       "  'pixel408',\n",
       "  'pixel409',\n",
       "  'pixel410',\n",
       "  'pixel411',\n",
       "  'pixel412',\n",
       "  'pixel413',\n",
       "  'pixel414',\n",
       "  'pixel415',\n",
       "  'pixel416',\n",
       "  'pixel417',\n",
       "  'pixel418',\n",
       "  'pixel419',\n",
       "  'pixel420',\n",
       "  'pixel421',\n",
       "  'pixel422',\n",
       "  'pixel423',\n",
       "  'pixel424',\n",
       "  'pixel425',\n",
       "  'pixel426',\n",
       "  'pixel427',\n",
       "  'pixel428',\n",
       "  'pixel429',\n",
       "  'pixel430',\n",
       "  'pixel431',\n",
       "  'pixel432',\n",
       "  'pixel433',\n",
       "  'pixel434',\n",
       "  'pixel435',\n",
       "  'pixel436',\n",
       "  'pixel437',\n",
       "  'pixel438',\n",
       "  'pixel439',\n",
       "  'pixel440',\n",
       "  'pixel441',\n",
       "  'pixel442',\n",
       "  'pixel443',\n",
       "  'pixel444',\n",
       "  'pixel445',\n",
       "  'pixel446',\n",
       "  'pixel447',\n",
       "  'pixel448',\n",
       "  'pixel449',\n",
       "  'pixel450',\n",
       "  'pixel451',\n",
       "  'pixel452',\n",
       "  'pixel453',\n",
       "  'pixel454',\n",
       "  'pixel455',\n",
       "  'pixel456',\n",
       "  'pixel457',\n",
       "  'pixel458',\n",
       "  'pixel459',\n",
       "  'pixel460',\n",
       "  'pixel461',\n",
       "  'pixel462',\n",
       "  'pixel463',\n",
       "  'pixel464',\n",
       "  'pixel465',\n",
       "  'pixel466',\n",
       "  'pixel467',\n",
       "  'pixel468',\n",
       "  'pixel469',\n",
       "  'pixel470',\n",
       "  'pixel471',\n",
       "  'pixel472',\n",
       "  'pixel473',\n",
       "  'pixel474',\n",
       "  'pixel475',\n",
       "  'pixel476',\n",
       "  'pixel477',\n",
       "  'pixel478',\n",
       "  'pixel479',\n",
       "  'pixel480',\n",
       "  'pixel481',\n",
       "  'pixel482',\n",
       "  'pixel483',\n",
       "  'pixel484',\n",
       "  'pixel485',\n",
       "  'pixel486',\n",
       "  'pixel487',\n",
       "  'pixel488',\n",
       "  'pixel489',\n",
       "  'pixel490',\n",
       "  'pixel491',\n",
       "  'pixel492',\n",
       "  'pixel493',\n",
       "  'pixel494',\n",
       "  'pixel495',\n",
       "  'pixel496',\n",
       "  'pixel497',\n",
       "  'pixel498',\n",
       "  'pixel499',\n",
       "  'pixel500',\n",
       "  'pixel501',\n",
       "  'pixel502',\n",
       "  'pixel503',\n",
       "  'pixel504',\n",
       "  'pixel505',\n",
       "  'pixel506',\n",
       "  'pixel507',\n",
       "  'pixel508',\n",
       "  'pixel509',\n",
       "  'pixel510',\n",
       "  'pixel511',\n",
       "  'pixel512',\n",
       "  'pixel513',\n",
       "  'pixel514',\n",
       "  'pixel515',\n",
       "  'pixel516',\n",
       "  'pixel517',\n",
       "  'pixel518',\n",
       "  'pixel519',\n",
       "  'pixel520',\n",
       "  'pixel521',\n",
       "  'pixel522',\n",
       "  'pixel523',\n",
       "  'pixel524',\n",
       "  'pixel525',\n",
       "  'pixel526',\n",
       "  'pixel527',\n",
       "  'pixel528',\n",
       "  'pixel529',\n",
       "  'pixel530',\n",
       "  'pixel531',\n",
       "  'pixel532',\n",
       "  'pixel533',\n",
       "  'pixel534',\n",
       "  'pixel535',\n",
       "  'pixel536',\n",
       "  'pixel537',\n",
       "  'pixel538',\n",
       "  'pixel539',\n",
       "  'pixel540',\n",
       "  'pixel541',\n",
       "  'pixel542',\n",
       "  'pixel543',\n",
       "  'pixel544',\n",
       "  'pixel545',\n",
       "  'pixel546',\n",
       "  'pixel547',\n",
       "  'pixel548',\n",
       "  'pixel549',\n",
       "  'pixel550',\n",
       "  'pixel551',\n",
       "  'pixel552',\n",
       "  'pixel553',\n",
       "  'pixel554',\n",
       "  'pixel555',\n",
       "  'pixel556',\n",
       "  'pixel557',\n",
       "  'pixel558',\n",
       "  'pixel559',\n",
       "  'pixel560',\n",
       "  'pixel561',\n",
       "  'pixel562',\n",
       "  'pixel563',\n",
       "  'pixel564',\n",
       "  'pixel565',\n",
       "  'pixel566',\n",
       "  'pixel567',\n",
       "  'pixel568',\n",
       "  'pixel569',\n",
       "  'pixel570',\n",
       "  'pixel571',\n",
       "  'pixel572',\n",
       "  'pixel573',\n",
       "  'pixel574',\n",
       "  'pixel575',\n",
       "  'pixel576',\n",
       "  'pixel577',\n",
       "  'pixel578',\n",
       "  'pixel579',\n",
       "  'pixel580',\n",
       "  'pixel581',\n",
       "  'pixel582',\n",
       "  'pixel583',\n",
       "  'pixel584',\n",
       "  'pixel585',\n",
       "  'pixel586',\n",
       "  'pixel587',\n",
       "  'pixel588',\n",
       "  'pixel589',\n",
       "  'pixel590',\n",
       "  'pixel591',\n",
       "  'pixel592',\n",
       "  'pixel593',\n",
       "  'pixel594',\n",
       "  'pixel595',\n",
       "  'pixel596',\n",
       "  'pixel597',\n",
       "  'pixel598',\n",
       "  'pixel599',\n",
       "  'pixel600',\n",
       "  'pixel601',\n",
       "  'pixel602',\n",
       "  'pixel603',\n",
       "  'pixel604',\n",
       "  'pixel605',\n",
       "  'pixel606',\n",
       "  'pixel607',\n",
       "  'pixel608',\n",
       "  'pixel609',\n",
       "  'pixel610',\n",
       "  'pixel611',\n",
       "  'pixel612',\n",
       "  'pixel613',\n",
       "  'pixel614',\n",
       "  'pixel615',\n",
       "  'pixel616',\n",
       "  'pixel617',\n",
       "  'pixel618',\n",
       "  'pixel619',\n",
       "  'pixel620',\n",
       "  'pixel621',\n",
       "  'pixel622',\n",
       "  'pixel623',\n",
       "  'pixel624',\n",
       "  'pixel625',\n",
       "  'pixel626',\n",
       "  'pixel627',\n",
       "  'pixel628',\n",
       "  'pixel629',\n",
       "  'pixel630',\n",
       "  'pixel631',\n",
       "  'pixel632',\n",
       "  'pixel633',\n",
       "  'pixel634',\n",
       "  'pixel635',\n",
       "  'pixel636',\n",
       "  'pixel637',\n",
       "  'pixel638',\n",
       "  'pixel639',\n",
       "  'pixel640',\n",
       "  'pixel641',\n",
       "  'pixel642',\n",
       "  'pixel643',\n",
       "  'pixel644',\n",
       "  'pixel645',\n",
       "  'pixel646',\n",
       "  'pixel647',\n",
       "  'pixel648',\n",
       "  'pixel649',\n",
       "  'pixel650',\n",
       "  'pixel651',\n",
       "  'pixel652',\n",
       "  'pixel653',\n",
       "  'pixel654',\n",
       "  'pixel655',\n",
       "  'pixel656',\n",
       "  'pixel657',\n",
       "  'pixel658',\n",
       "  'pixel659',\n",
       "  'pixel660',\n",
       "  'pixel661',\n",
       "  'pixel662',\n",
       "  'pixel663',\n",
       "  'pixel664',\n",
       "  'pixel665',\n",
       "  'pixel666',\n",
       "  'pixel667',\n",
       "  'pixel668',\n",
       "  'pixel669',\n",
       "  'pixel670',\n",
       "  'pixel671',\n",
       "  'pixel672',\n",
       "  'pixel673',\n",
       "  'pixel674',\n",
       "  'pixel675',\n",
       "  'pixel676',\n",
       "  'pixel677',\n",
       "  'pixel678',\n",
       "  'pixel679',\n",
       "  'pixel680',\n",
       "  'pixel681',\n",
       "  'pixel682',\n",
       "  'pixel683',\n",
       "  'pixel684',\n",
       "  'pixel685',\n",
       "  'pixel686',\n",
       "  'pixel687',\n",
       "  'pixel688',\n",
       "  'pixel689',\n",
       "  'pixel690',\n",
       "  'pixel691',\n",
       "  'pixel692',\n",
       "  'pixel693',\n",
       "  'pixel694',\n",
       "  'pixel695',\n",
       "  'pixel696',\n",
       "  'pixel697',\n",
       "  'pixel698',\n",
       "  'pixel699',\n",
       "  'pixel700',\n",
       "  'pixel701',\n",
       "  'pixel702',\n",
       "  'pixel703',\n",
       "  'pixel704',\n",
       "  'pixel705',\n",
       "  'pixel706',\n",
       "  'pixel707',\n",
       "  'pixel708',\n",
       "  'pixel709',\n",
       "  'pixel710',\n",
       "  'pixel711',\n",
       "  'pixel712',\n",
       "  'pixel713',\n",
       "  'pixel714',\n",
       "  'pixel715',\n",
       "  'pixel716',\n",
       "  'pixel717',\n",
       "  'pixel718',\n",
       "  'pixel719',\n",
       "  'pixel720',\n",
       "  'pixel721',\n",
       "  'pixel722',\n",
       "  'pixel723',\n",
       "  'pixel724',\n",
       "  'pixel725',\n",
       "  'pixel726',\n",
       "  'pixel727',\n",
       "  'pixel728',\n",
       "  'pixel729',\n",
       "  'pixel730',\n",
       "  'pixel731',\n",
       "  'pixel732',\n",
       "  'pixel733',\n",
       "  'pixel734',\n",
       "  'pixel735',\n",
       "  'pixel736',\n",
       "  'pixel737',\n",
       "  'pixel738',\n",
       "  'pixel739',\n",
       "  'pixel740',\n",
       "  'pixel741',\n",
       "  'pixel742',\n",
       "  'pixel743',\n",
       "  'pixel744',\n",
       "  'pixel745',\n",
       "  'pixel746',\n",
       "  'pixel747',\n",
       "  'pixel748',\n",
       "  'pixel749',\n",
       "  'pixel750',\n",
       "  'pixel751',\n",
       "  'pixel752',\n",
       "  'pixel753',\n",
       "  'pixel754',\n",
       "  'pixel755',\n",
       "  'pixel756',\n",
       "  'pixel757',\n",
       "  'pixel758',\n",
       "  'pixel759',\n",
       "  'pixel760',\n",
       "  'pixel761',\n",
       "  'pixel762',\n",
       "  'pixel763',\n",
       "  'pixel764',\n",
       "  'pixel765',\n",
       "  'pixel766',\n",
       "  'pixel767',\n",
       "  'pixel768',\n",
       "  'pixel769',\n",
       "  'pixel770',\n",
       "  'pixel771',\n",
       "  'pixel772',\n",
       "  'pixel773',\n",
       "  'pixel774',\n",
       "  'pixel775',\n",
       "  'pixel776',\n",
       "  'pixel777',\n",
       "  'pixel778',\n",
       "  'pixel779',\n",
       "  'pixel780',\n",
       "  'pixel781',\n",
       "  'pixel782',\n",
       "  'pixel783',\n",
       "  'pixel784'],\n",
       " 'target_names': ['class'],\n",
       " 'DESCR': \"**Author**: Yann LeCun, Corinna Cortes, Christopher J.C. Burges  \\n**Source**: [MNIST Website](http://yann.lecun.com/exdb/mnist/) - Date unknown  \\n**Please cite**:  \\n\\nThe MNIST database of handwritten digits with 784 features, raw data available at: http://yann.lecun.com/exdb/mnist/. It can be split in a training set of the first 60,000 examples, and a test set of 10,000 examples  \\n\\nIt is a subset of a larger set available from NIST. The digits have been size-normalized and centered in a fixed-size image. It is a good database for people who want to try learning techniques and pattern recognition methods on real-world data while spending minimal efforts on preprocessing and formatting. The original black and white (bilevel) images from NIST were size normalized to fit in a 20x20 pixel box while preserving their aspect ratio. The resulting images contain grey levels as a result of the anti-aliasing technique used by the normalization algorithm. the images were centered in a 28x28 image by computing the center of mass of the pixels, and translating the image so as to position this point at the center of the 28x28 field.  \\n\\nWith some classification methods (particularly template-based methods, such as SVM and K-nearest neighbors), the error rate improves when the digits are centered by bounding box rather than center of mass. If you do this kind of pre-processing, you should report it in your publications. The MNIST database was constructed from NIST's NIST originally designated SD-3 as their training set and SD-1 as their test set. However, SD-3 is much cleaner and easier to recognize than SD-1. The reason for this can be found on the fact that SD-3 was collected among Census Bureau employees, while SD-1 was collected among high-school students. Drawing sensible conclusions from learning experiments requires that the result be independent of the choice of training set and test among the complete set of samples. Therefore it was necessary to build a new database by mixing NIST's datasets.  \\n\\nThe MNIST training set is composed of 30,000 patterns from SD-3 and 30,000 patterns from SD-1. Our test set was composed of 5,000 patterns from SD-3 and 5,000 patterns from SD-1. The 60,000 pattern training set contained examples from approximately 250 writers. We made sure that the sets of writers of the training set and test set were disjoint. SD-1 contains 58,527 digit images written by 500 different writers. In contrast to SD-3, where blocks of data from each writer appeared in sequence, the data in SD-1 is scrambled. Writer identities for SD-1 is available and we used this information to unscramble the writers. We then split SD-1 in two: characters written by the first 250 writers went into our new training set. The remaining 250 writers were placed in our test set. Thus we had two sets with nearly 30,000 examples each. The new training set was completed with enough examples from SD-3, starting at pattern # 0, to make a full set of 60,000 training patterns. Similarly, the new test set was completed with SD-3 examples starting at pattern # 35,000 to make a full set with 60,000 test patterns. Only a subset of 10,000 test images (5,000 from SD-1 and 5,000 from SD-3) is available on this site. The full 60,000 sample training set is available.\\n\\nDownloaded from openml.org.\",\n",
       " 'details': {'id': '554',\n",
       "  'name': 'mnist_784',\n",
       "  'version': '1',\n",
       "  'description_version': '2',\n",
       "  'format': 'ARFF',\n",
       "  'creator': ['Yann LeCun', 'Corinna Cortes', 'Christopher J.C. Burges'],\n",
       "  'upload_date': '2014-09-29T03:28:38',\n",
       "  'language': 'English',\n",
       "  'licence': 'Public',\n",
       "  'url': 'https://api.openml.org/data/v1/download/52667/mnist_784.arff',\n",
       "  'parquet_url': 'https://openml1.win.tue.nl/datasets/0000/0554/dataset_554.pq',\n",
       "  'file_id': '52667',\n",
       "  'default_target_attribute': 'class',\n",
       "  'tag': ['AzurePilot',\n",
       "   'OpenML-CC18',\n",
       "   'OpenML100',\n",
       "   'study_1',\n",
       "   'study_123',\n",
       "   'study_41',\n",
       "   'study_99',\n",
       "   'vision'],\n",
       "  'visibility': 'public',\n",
       "  'minio_url': 'https://openml1.win.tue.nl/datasets/0000/0554/dataset_554.pq',\n",
       "  'status': 'active',\n",
       "  'processing_date': '2020-11-20 20:12:09',\n",
       "  'md5_checksum': '0298d579eb1b86163de7723944c7e495'},\n",
       " 'url': 'https://www.openml.org/d/554'}"
      ]
     },
     "execution_count": 8,
     "metadata": {},
     "output_type": "execute_result"
    }
   ],
   "source": [
    "mnist"
   ]
  },
  {
   "cell_type": "code",
   "execution_count": 9,
   "metadata": {
    "colab": {
     "base_uri": "https://localhost:8080/"
    },
    "id": "Wi4EdVlaBy5-",
    "outputId": "03a1c422-0d9a-45b7-90c2-d32a225c10ea",
    "pycharm": {
     "name": "#%%\n"
    }
   },
   "outputs": [
    {
     "name": "stdout",
     "output_type": "stream",
     "text": [
      "Shape of x: (70000, 784)\n",
      "Min, max x: (0, 255)\n",
      "Shape of y: (70000,)\n",
      "Classes in y: ['0' '1' '2' '3' '4' '5' '6' '7' '8' '9']\n"
     ]
    }
   ],
   "source": [
    "# Data exploration\n",
    "print(f\"Shape of x: {x.shape}\")\n",
    "print(f\"Min, max x: {x.min(), x.max()}\")\n",
    "print(f\"Shape of y: {y.shape}\")\n",
    "print(f\"Classes in y: {np.unique(y)}\")"
   ]
  },
  {
   "cell_type": "code",
   "execution_count": 10,
   "metadata": {
    "id": "GCUKJb8fCXvx",
    "pycharm": {
     "name": "#%%\n"
    }
   },
   "outputs": [],
   "source": [
    "# Preprocessing\n",
    "x = torch.from_numpy(x.astype(float)).float()\n",
    "y = torch.from_numpy(y.astype(int)).type(torch.LongTensor)\n",
    "# Shape\n",
    "x = x.reshape(-1, 1, 28, 28)\n",
    "# Scaler\n",
    "x = (x - x.min()) / (x.max() - x.min())\n",
    "\n"
   ]
  },
  {
   "cell_type": "code",
   "execution_count": 11,
   "metadata": {
    "id": "LBSIna-OEnq9",
    "pycharm": {
     "name": "#%%\n"
    }
   },
   "outputs": [],
   "source": [
    "# Split\n",
    "x_train, x_test, y_train, y_test = train_test_split(x, y, test_size=0.2, random_state=42, stratify=y, shuffle=True)\n",
    "x_train, x_val, y_train, y_val = train_test_split(x_train, y_train, test_size=0.2, random_state=42, stratify=y_train, shuffle=True)"
   ]
  },
  {
   "cell_type": "code",
   "execution_count": 8,
   "metadata": {},
   "outputs": [
    {
     "name": "stdout",
     "output_type": "stream",
     "text": [
      "x_train shape: torch.Size([44800, 1, 28, 28]), x_val shape: torch.Size([11200, 1, 28, 28]), x_test shape: torch.Size([14000, 1, 28, 28])\n",
      "y_train distribution: tensor([4418, 5042, 4473, 4570, 4367, 4040, 4401, 4667, 4368, 4454])\n",
      "Pixel range after normalization: 0.0 to 1.0\n"
     ]
    }
   ],
   "source": [
    "# Verify splits\n",
    "print(f\"x_train shape: {x_train.shape}, x_val shape: {x_val.shape}, x_test shape: {x_test.shape}\")\n",
    "print(f\"y_train distribution: {torch.bincount(y_train)}\")\n",
    "print(f\"Pixel range after normalization: {x_train.min()} to {x_train.max()}\")"
   ]
  },
  {
   "cell_type": "markdown",
   "metadata": {
    "id": "wkcToEG85CCC",
    "pycharm": {
     "name": "#%% md\n"
    }
   },
   "source": [
    "## 1. Adversarial examples\n",
    "\n",
    "The goal of this first part is to generate adversarial examples on a simple dataset called MNIST. MNIST is a dataset of 28x28 black and white images that represents hand-written digits, and their associate label 0,1,...,9.\n",
    "\n",
    "You can use the following ressource to help you [https://pytorch.org/tutorials/beginner/basics/optimization_tutorial.html#](https://pytorch.org/tutorials/beginner/basics/optimization_tutorial.html#).\n"
   ]
  },
  {
   "cell_type": "markdown",
   "metadata": {
    "id": "9unhURg05qcR",
    "pycharm": {
     "name": "#%% md\n"
    }
   },
   "source": [
    "1. Train a Neural Network using the PyTorch library.\n",
    "\n",
    "The architecture of the models and the training hyper-parameters are given below.\n",
    "We recommend using these parameters, the SGD optimizer and the Cross Entropy loss.\n"
   ]
  },
  {
   "cell_type": "code",
   "execution_count": 12,
   "metadata": {},
   "outputs": [],
   "source": [
    "class Net(nn.Module):\n",
    "    def __init__(self):\n",
    "        super(Net, self).__init__()\n",
    "        self.conv1 = nn.Conv2d(1, 10, kernel_size=5)\n",
    "        self.conv2 = nn.Conv2d(10, 20, kernel_size=5)\n",
    "        self.conv2_drop = nn.Dropout2d()\n",
    "        self.fc1 = nn.Linear(320, 50)\n",
    "        self.fc2 = nn.Linear(50, 10)\n",
    "\n",
    "    def forward(self, x):\n",
    "        x = F.relu(F.max_pool2d(self.conv1(x), 2))\n",
    "        x = F.relu(F.max_pool2d(self.conv2_drop(self.conv2(x)), 2))\n",
    "        x = x.view(-1, 320)\n",
    "        x = F.relu(self.fc1(x))\n",
    "        x = F.dropout(x, training=self.training)\n",
    "        x = self.fc2(x)\n",
    "        return x\n"
   ]
  },
  {
   "cell_type": "code",
   "execution_count": 13,
   "metadata": {},
   "outputs": [],
   "source": [
    "# Hyperparameters\n",
    "learning_rate = 0.001\n",
    "momentum=0.9\n",
    "epochs = 10\n",
    "batch_size = 64"
   ]
  },
  {
   "cell_type": "code",
   "execution_count": 14,
   "metadata": {},
   "outputs": [],
   "source": [
    "## YOUR CODE HERE: use SGD with the provided hyperparameters\n",
    "model_0 = Net()\n",
    "optimizer = torch.optim.SGD(model_0.parameters(), lr=learning_rate, momentum=momentum)"
   ]
  },
  {
   "cell_type": "code",
   "execution_count": 15,
   "metadata": {},
   "outputs": [],
   "source": [
    "## YOUR CODE HERE: use CrossEntropyLoss.\n",
    "loss_func = nn.CrossEntropyLoss()\n"
   ]
  },
  {
   "cell_type": "code",
   "execution_count": 20,
   "metadata": {
    "id": "2MujJh_5jonb"
   },
   "outputs": [],
   "source": [
    "def train_loop(dataloader, model, loss_fn, optimizer, batch_size):\n",
    "    total_loss = 0\n",
    "    size = len(dataloader.dataset)\n",
    "    for batch, (X, y) in tqdm(enumerate(dataloader), total=int(size / batch_size)):\n",
    "        \n",
    "\n",
    "        # Compute predictions and loss\n",
    "        pred = model(X)  # Forward pass\n",
    "        loss = loss_fn(pred, y)  # Calculate loss\n",
    "\n",
    "        # Backpropagation\n",
    "        optimizer.zero_grad()  # Clear gradients\n",
    "        loss.backward()  # Compute gradients\n",
    "        optimizer.step()  # Update model parameters\n",
    "        total_loss += loss.item()  # Add the loss of the current batch to total_loss\n",
    "\n",
    "    average_loss = total_loss / len(dataloader)  \n",
    "    return average_loss  \n",
    "\n"
   ]
  },
  {
   "cell_type": "code",
   "execution_count": 21,
   "metadata": {},
   "outputs": [],
   "source": [
    "## GIVEN, to evaluate the progress of the training at each epoch\n",
    "def val_loop(dataloader, model, loss_fn, epoch_i):\n",
    "    size = len(dataloader.dataset)\n",
    "    num_batches = len(dataloader)\n",
    "    test_loss, correct = 0, 0\n",
    "\n",
    "    with torch.no_grad():\n",
    "        for X, y in dataloader:\n",
    "            pred = model(X)\n",
    "            test_loss += loss_fn(pred, y).item()\n",
    "            correct += (pred.argmax(1) == y).type(torch.float).sum().item()\n",
    "\n",
    "    test_loss /= num_batches\n",
    "    correct /= size\n",
    "    print(f\"Epoch {epoch_i}, Val Error: Accuracy: {(100*correct):>0.1f}%, Avg loss: {test_loss:>8f}\")"
   ]
  },
  {
   "cell_type": "code",
   "execution_count": 22,
   "metadata": {
    "id": "9lwTxQ60kaXd"
   },
   "outputs": [],
   "source": [
    "def train_model(model, x_train, y_train, x_val, y_val, optimizer, batch_size, loss_func, epochs):\n",
    "    # Data processing\n",
    "    train_dataset = TensorDataset(x_train, y_train)\n",
    "    train_loader = DataLoader(\n",
    "        dataset=train_dataset,\n",
    "        batch_size=batch_size,\n",
    "        shuffle=True,\n",
    "        num_workers=2,\n",
    "    )\n",
    "    val_dataset = TensorDataset(x_val, y_val)\n",
    "    val_loader = DataLoader(\n",
    "        dataset=val_dataset,\n",
    "        batch_size=2000,\n",
    "        shuffle=True,\n",
    "        num_workers=2,\n",
    "    )\n",
    "\n",
    "    # Main train loop\n",
    "    ## YOUR CODE HERE:\n",
    "    for epoch in range(epochs):\n",
    "        print(f\"Epoch {epoch + 1}/{epochs}\")\n",
    "\n",
    "        # Train loop\n",
    "        model.train()  \n",
    "        train_loss = train_loop(train_loader, model, loss_func, optimizer, batch_size)\n",
    "        print(f\"Training Loss: {train_loss:.4f}\")\n",
    "\n",
    "        # Validation loop\n",
    "        model.eval()  \n",
    "        val_loop(val_loader, model, loss_func, epoch)\n"
   ]
  },
  {
   "cell_type": "code",
   "execution_count": 23,
   "metadata": {},
   "outputs": [
    {
     "name": "stdout",
     "output_type": "stream",
     "text": [
      "Epoch 1/10\n"
     ]
    },
    {
     "name": "stderr",
     "output_type": "stream",
     "text": [
      "100%|████████████████████████████████████████████████████████████████████████████████| 700/700 [00:12<00:00, 54.35it/s]\n"
     ]
    },
    {
     "name": "stdout",
     "output_type": "stream",
     "text": [
      "Training Loss: 2.2535\n",
      "Epoch 0, Val Error: Accuracy: 69.3%, Avg loss: 1.937026\n",
      "Epoch 2/10\n"
     ]
    },
    {
     "name": "stderr",
     "output_type": "stream",
     "text": [
      "100%|████████████████████████████████████████████████████████████████████████████████| 700/700 [00:13<00:00, 52.29it/s]\n"
     ]
    },
    {
     "name": "stdout",
     "output_type": "stream",
     "text": [
      "Training Loss: 1.1897\n",
      "Epoch 1, Val Error: Accuracy: 87.7%, Avg loss: 0.468989\n",
      "Epoch 3/10\n"
     ]
    },
    {
     "name": "stderr",
     "output_type": "stream",
     "text": [
      "100%|████████████████████████████████████████████████████████████████████████████████| 700/700 [00:13<00:00, 53.02it/s]\n"
     ]
    },
    {
     "name": "stdout",
     "output_type": "stream",
     "text": [
      "Training Loss: 0.6700\n",
      "Epoch 2, Val Error: Accuracy: 90.8%, Avg loss: 0.321654\n",
      "Epoch 4/10\n"
     ]
    },
    {
     "name": "stderr",
     "output_type": "stream",
     "text": [
      "100%|████████████████████████████████████████████████████████████████████████████████| 700/700 [00:13<00:00, 51.31it/s]\n"
     ]
    },
    {
     "name": "stdout",
     "output_type": "stream",
     "text": [
      "Training Loss: 0.5388\n",
      "Epoch 3, Val Error: Accuracy: 92.9%, Avg loss: 0.248188\n",
      "Epoch 5/10\n"
     ]
    },
    {
     "name": "stderr",
     "output_type": "stream",
     "text": [
      "100%|████████████████████████████████████████████████████████████████████████████████| 700/700 [00:13<00:00, 50.74it/s]\n"
     ]
    },
    {
     "name": "stdout",
     "output_type": "stream",
     "text": [
      "Training Loss: 0.4720\n",
      "Epoch 4, Val Error: Accuracy: 93.8%, Avg loss: 0.215980\n",
      "Epoch 6/10\n"
     ]
    },
    {
     "name": "stderr",
     "output_type": "stream",
     "text": [
      "100%|████████████████████████████████████████████████████████████████████████████████| 700/700 [00:12<00:00, 55.28it/s]\n"
     ]
    },
    {
     "name": "stdout",
     "output_type": "stream",
     "text": [
      "Training Loss: 0.4309\n",
      "Epoch 5, Val Error: Accuracy: 94.6%, Avg loss: 0.190126\n",
      "Epoch 7/10\n"
     ]
    },
    {
     "name": "stderr",
     "output_type": "stream",
     "text": [
      "100%|████████████████████████████████████████████████████████████████████████████████| 700/700 [00:12<00:00, 56.58it/s]\n"
     ]
    },
    {
     "name": "stdout",
     "output_type": "stream",
     "text": [
      "Training Loss: 0.3945\n",
      "Epoch 6, Val Error: Accuracy: 95.1%, Avg loss: 0.171634\n",
      "Epoch 8/10\n"
     ]
    },
    {
     "name": "stderr",
     "output_type": "stream",
     "text": [
      "100%|████████████████████████████████████████████████████████████████████████████████| 700/700 [00:12<00:00, 56.24it/s]\n"
     ]
    },
    {
     "name": "stdout",
     "output_type": "stream",
     "text": [
      "Training Loss: 0.3651\n",
      "Epoch 7, Val Error: Accuracy: 95.5%, Avg loss: 0.155888\n",
      "Epoch 9/10\n"
     ]
    },
    {
     "name": "stderr",
     "output_type": "stream",
     "text": [
      "100%|████████████████████████████████████████████████████████████████████████████████| 700/700 [00:12<00:00, 56.08it/s]\n"
     ]
    },
    {
     "name": "stdout",
     "output_type": "stream",
     "text": [
      "Training Loss: 0.3413\n",
      "Epoch 8, Val Error: Accuracy: 95.9%, Avg loss: 0.144443\n",
      "Epoch 10/10\n"
     ]
    },
    {
     "name": "stderr",
     "output_type": "stream",
     "text": [
      "100%|████████████████████████████████████████████████████████████████████████████████| 700/700 [00:12<00:00, 55.59it/s]\n"
     ]
    },
    {
     "name": "stdout",
     "output_type": "stream",
     "text": [
      "Training Loss: 0.3278\n",
      "Epoch 9, Val Error: Accuracy: 96.1%, Avg loss: 0.137861\n"
     ]
    }
   ],
   "source": [
    "## YOUR CODE HERE: train the model using the training function you just implemented.\n",
    "train_model(model_0, x_train, y_train, x_val, y_val, optimizer, batch_size=batch_size, loss_func=loss_func, epochs=epochs)\n"
   ]
  },
  {
   "cell_type": "markdown",
   "metadata": {
    "id": "ggr_3NzH6faf",
    "pycharm": {
     "name": "#%% md\n"
    }
   },
   "source": [
    "2. Evaluate clean accuracy of the Neural Network using a test set that has not been used for training."
   ]
  },
  {
   "cell_type": "code",
   "execution_count": 24,
   "metadata": {
    "id": "Iyr4Zuo7Gsqz",
    "pycharm": {
     "name": "#%%\n"
    }
   },
   "outputs": [
    {
     "data": {
      "text/plain": [
       "Net(\n",
       "  (conv1): Conv2d(1, 10, kernel_size=(5, 5), stride=(1, 1))\n",
       "  (conv2): Conv2d(10, 20, kernel_size=(5, 5), stride=(1, 1))\n",
       "  (conv2_drop): Dropout2d(p=0.5, inplace=False)\n",
       "  (fc1): Linear(in_features=320, out_features=50, bias=True)\n",
       "  (fc2): Linear(in_features=50, out_features=10, bias=True)\n",
       ")"
      ]
     },
     "execution_count": 24,
     "metadata": {},
     "output_type": "execute_result"
    }
   ],
   "source": [
    "# Set model into evaluation mode\n",
    "model_0.eval()"
   ]
  },
  {
   "cell_type": "code",
   "execution_count": 25,
   "metadata": {
    "id": "JItRLnejlXzM"
   },
   "outputs": [
    {
     "name": "stdout",
     "output_type": "stream",
     "text": [
      "Clean accuracy of the model is 95.85000000000001.\n"
     ]
    }
   ],
   "source": [
    "## YOUR CODE HERE: Evaluate model accuracy\n",
    "\n",
    "with torch.no_grad():\n",
    "    test_output = model_0(x_test)\n",
    "    test_predictions = torch.argmax(test_output, dim=1)\n",
    "    accuracy = accuracy_score(y_test, test_predictions)\n",
    "\n",
    "print(f\"Clean accuracy of the model is {100.0 * accuracy}.\")"
   ]
  },
  {
   "cell_type": "code",
   "execution_count": 27,
   "metadata": {},
   "outputs": [
    {
     "name": "stdout",
     "output_type": "stream",
     "text": [
      "Clean accuracy of the model is 95.85%.\n"
     ]
    }
   ],
   "source": [
    "## YOUR CODE HERE: Evaluate model accuracy\n",
    "# Create DataLoader for the test set\n",
    "test_dataset = TensorDataset(x_test, y_test)\n",
    "test_loader = DataLoader(\n",
    "    dataset=test_dataset,\n",
    "    batch_size=2000,  \n",
    "    shuffle=False,\n",
    ")\n",
    "\n",
    "correct = 0\n",
    "total = 0\n",
    "\n",
    "# No gradient computation needed during evaluation\n",
    "with torch.no_grad():\n",
    "    for X, y in test_loader:\n",
    "        pred = model_0(X)\n",
    "        \n",
    "        # Get the predicted class (the one with the highest probability)\n",
    "        correct += (pred.argmax(1) == y).sum().item()\n",
    "        total += y.size(0)  \n",
    "\n",
    "accuracy = 100 * correct / total\n",
    "print(f\"Clean accuracy of the model is {accuracy:.2f}%.\")"
   ]
  },
  {
   "cell_type": "code",
   "execution_count": 28,
   "metadata": {},
   "outputs": [
    {
     "name": "stdout",
     "output_type": "stream",
     "text": [
      "Number of Misclassified cases: 581\n"
     ]
    },
    {
     "data": {
      "image/png": "[encoded data removed]",
      "text/plain": [
       "<Figure size 1000x500 with 5 Axes>"
      ]
     },
     "metadata": {},
     "output_type": "display_data"
    }
   ],
   "source": [
    "misclassified = []\n",
    "\n",
    "with torch.no_grad():\n",
    "    for X, y in test_loader:\n",
    "        preds = model_0(X)\n",
    "        pred_classes = preds.argmax(dim=1)\n",
    "        misclassified_idx = (pred_classes != y).nonzero(as_tuple=True)[0]\n",
    "        misclassified.extend([(X[idx].cpu(), y[idx].item(), pred_classes[idx].item()) for idx in misclassified_idx])\n",
    "\n",
    "print(f'Number of Misclassified cases: {len(misclassified)}')\n",
    "plt.figure(figsize=(10, 5))\n",
    "for i, (img, true_label, pred_label) in enumerate(misclassified[:5]):\n",
    "    plt.subplot(1, 5, i + 1)\n",
    "    plt.imshow(img.squeeze(), cmap=\"gray\")\n",
    "    plt.title(f\"T: {true_label}, P: {pred_label}\")\n",
    "    plt.axis(\"off\")\n",
    "plt.tight_layout()\n",
    "plt.show()"
   ]
  },
  {
   "cell_type": "markdown",
   "metadata": {
    "id": "lSkQn-RV6lYF",
    "pycharm": {
     "name": "#%% md\n"
    }
   },
   "source": [
    "3. Implement and execute the PGD attack on 1000 examples of the testing set. The hyperparameters of PGD are given below.\n",
    "The perturbation is bounded by a maximum L-infinity norm, called epsilon (eps), which means that each pixel can be perturbed between -eps and +eps. We initialy set the maximum perturbation to eps = 32/255. For simplicity, you can set the step size alpha = epsilon / 10, and run PGD with only one random restart.\n",
    "\n",
    "You can find the description of PGD in the paper [https://arxiv.org/abs/1706.06083](https://arxiv.org/abs/1706.06083) and an example of another adversarial attack on the PyTorch documentation [https://pytorch.org/tutorials/beginner/fgsm_tutorial.html](https://pytorch.org/tutorials/beginner/fgsm_tutorial.html).\n",
    "Tips: use the F.cross_entropy loss during the attack.\n"
   ]
  },
  {
   "cell_type": "code",
   "execution_count": 29,
   "metadata": {
    "id": "o1fT3GOLn6Gs"
   },
   "outputs": [],
   "source": [
    "n_examples = 1000\n",
    "eps = 32/255\n",
    "n_iter = 50\n",
    "alpha = eps / 10\n",
    "\n"
   ]
  },
  {
   "cell_type": "code",
   "execution_count": 30,
   "metadata": {},
   "outputs": [],
   "source": [
    "## YOUR CODE HERE: Generate adversarial examples\n",
    "\n",
    "def pgd_attack(model, images, labels, eps, alpha, n_iter):\n",
    "    \"\"\"\n",
    "    Perform the PGD attack on a batch of images.\n",
    "    \n",
    "    Args:\n",
    "        model: The trained PyTorch model.\n",
    "        images: Input images to perturb.\n",
    "        labels: True labels corresponding to the images.\n",
    "        eps: Maximum perturbation (L-infinity norm).\n",
    "        alpha: Step size for each iteration.\n",
    "        n_iter: Number of PGD iterations.\n",
    "        \n",
    "    Returns:\n",
    "        perturbed_images: Adversarial examples.\n",
    "    \"\"\"\n",
    "    # Clone images and enable gradient computation\n",
    "    perturbed_images = images.clone().detach()\n",
    "    perturbed_images.requires_grad = True\n",
    "    \n",
    "    for _ in range(n_iter):\n",
    "        # Forward pass to compute loss\n",
    "        outputs = model(perturbed_images)\n",
    "        loss = F.cross_entropy(outputs, labels)\n",
    "\n",
    "        # Backward pass to compute gradients\n",
    "        model.zero_grad()\n",
    "        loss.backward()\n",
    "        \n",
    "        # Update images based on the sign of gradients\n",
    "        perturbation = alpha * perturbed_images.grad.sign()\n",
    "        perturbed_images = perturbed_images + perturbation\n",
    "        \n",
    "        # Project the perturbations to ensure they are within the allowed range\n",
    "        perturbed_images = torch.max(\n",
    "            torch.min(perturbed_images, images + eps), \n",
    "            images - eps\n",
    "        ).detach()\n",
    "        perturbed_images.requires_grad = True\n",
    "\n",
    "    return perturbed_images\n",
    "\n",
    "\n",
    "# Subset of test data for the attack\n",
    "test_subset = TensorDataset(x_test[:n_examples], y_test[:n_examples])\n",
    "test_loader = DataLoader(\n",
    "    dataset=test_subset,\n",
    "    batch_size=100,  \n",
    "    shuffle=False,\n",
    ")\n",
    "\n",
    "adversarial_examples = []\n",
    "\n",
    "# Generate adversarial examples for 1000 test images\n",
    "for X, y in test_loader:\n",
    "    X_adv = pgd_attack(model_0, X, y, eps, alpha, n_iter)\n",
    "    adversarial_examples.append(X_adv)\n",
    "\n",
    "# Concatenate all adversarial examples into a single tensor\n",
    "adversarial_examples = torch.cat(adversarial_examples)\n"
   ]
  },
  {
   "cell_type": "markdown",
   "metadata": {
    "id": "U0O9f_OSnfNk"
   },
   "source": [
    "4. Show the robust accuracy of model_0, that is the accuracy of the model on the adversarial examples."
   ]
  },
  {
   "cell_type": "code",
   "execution_count": 33,
   "metadata": {
    "id": "chHBAjRin7ss"
   },
   "outputs": [
    {
     "name": "stdout",
     "output_type": "stream",
     "text": [
      "Robust accuracy of the model on adversarial examples: 22.50%\n"
     ]
    }
   ],
   "source": [
    "# Evaluate model robust accuracy\n",
    "model_0.eval()  # Set the model to evaluation mode\n",
    "\n",
    "# Define true labels\n",
    "true_labels = y_test[:n_examples]\n",
    "\n",
    "# Initialize counters\n",
    "correct_adv = 0\n",
    "\n",
    "# Create DataLoader for adversarial examples\n",
    "adv_loader = DataLoader(\n",
    "    TensorDataset(adversarial_examples, true_labels),\n",
    "    batch_size=100,  # Batch size for evaluation\n",
    "    shuffle=False\n",
    ")\n",
    "\n",
    "# Evaluate the model on adversarial examples\n",
    "with torch.no_grad():\n",
    "    for X_adv, y in adv_loader:\n",
    "        # Model predictions on adversarial examples\n",
    "        preds = model_0(X_adv).argmax(dim=1)\n",
    "        \n",
    "        # Count correct predictions\n",
    "        correct_adv += (preds == y).sum().item()\n",
    "\n",
    "# Calculate robust accuracy\n",
    "robust_accuracy = 100.0 * correct_adv / len(true_labels)\n",
    "print(f\"Robust accuracy of the model on adversarial examples: {robust_accuracy:.2f}%\")\n",
    "\n"
   ]
  },
  {
   "cell_type": "code",
   "execution_count": 34,
   "metadata": {},
   "outputs": [],
   "source": [
    "### Analysis of Results"
   ]
  },
  {
   "cell_type": "markdown",
   "metadata": {
    "id": "GzvYoy6kAWCE",
    "pycharm": {
     "name": "#%% md\n"
    }
   },
   "source": [
    "5. Show the impact of the maximum perturbation allowed (denoted epsilon)."
   ]
  },
  {
   "cell_type": "code",
   "execution_count": 35,
   "metadata": {
    "id": "lJv7ipEEnyQG"
   },
   "outputs": [],
   "source": [
    "eps = [8/255, 16/255, 32/255, 64/255]\n",
    "alpha = [e/10 for e in eps]"
   ]
  },
  {
   "cell_type": "code",
   "execution_count": null,
   "metadata": {
    "id": "pIsJzfm2oJsp"
   },
   "outputs": [],
   "source": [
    "## YOUR CODE HERE: compute the adversarial examples for each provided epsilon\n",
    "## (maximum l-infinity norm of the perturbation), and compute the associated robust accuracy\n",
    "## Use a graph to display your result. You may use the [Matplotlib] (https://matplotlib.org/stable/index.html)."
   ]
  },
  {
   "cell_type": "markdown",
   "metadata": {},
   "source": [
    "**Analyze Robustness**"
   ]
  },
  {
   "cell_type": "code",
   "execution_count": 18,
   "metadata": {},
   "outputs": [
    {
     "name": "stdout",
     "output_type": "stream",
     "text": [
      "Evaluating robustness for different epsilon values...\n",
      "Epsilon: 8, Robust Accuracy: 64.70%\n",
      "Epsilon: 16, Robust Accuracy: 51.30%\n",
      "Epsilon: 32, Robust Accuracy: 23.70%\n",
      "Epsilon: 64, Robust Accuracy: 0.40%\n"
     ]
    },
    {
     "data": {
      "image/png": "[encoded data removed]",
      "text/plain": [
       "<Figure size 800x600 with 1 Axes>"
      ]
     },
     "metadata": {},
     "output_type": "display_data"
    }
   ],
   "source": [
    "# Test different epsilon values\n",
    "eps_values = [8 / 255, 16 / 255, 32 / 255, 64 / 255]\n",
    "alpha_values = [eps / 10 for eps in eps_values]\n",
    "robust_accuracies = []\n",
    "\n",
    "print(\"Evaluating robustness for different epsilon values...\")\n",
    "for eps, alpha in zip(eps_values, alpha_values):\n",
    "    adversarial_examples = pgd_attack(\n",
    "        model=model_0, \n",
    "        X=x_adv, \n",
    "        y=y_adv, \n",
    "        epsilon=eps, \n",
    "        alpha=alpha, \n",
    "        num_iter=n_iter, \n",
    "        restarts=1\n",
    "    )\n",
    "    adv_output = model_0(x_adv + adversarial_examples)\n",
    "    adv_predictions = torch.argmax(adv_output, dim=1)\n",
    "    accuracy = accuracy_score(y_adv, adv_predictions)\n",
    "    robust_accuracies.append(accuracy * 100)\n",
    "    print(f\"Epsilon: {eps * 255:.0f}, Robust Accuracy: {accuracy * 100:.2f}%\")\n",
    "\n",
    "# Plot the results\n",
    "import matplotlib.pyplot as plt\n",
    "\n",
    "plt.figure(figsize=(8, 6))\n",
    "plt.plot([eps * 255 for eps in eps_values], robust_accuracies, marker='o')\n",
    "plt.title(\"Impact of Epsilon on Robust Accuracy\")\n",
    "plt.xlabel(\"Epsilon (Perturbation Strength in Pixel Intensity)\")\n",
    "plt.ylabel(\"Robust Accuracy (%)\")\n",
    "plt.grid(True)\n",
    "plt.show()\n"
   ]
  },
  {
   "cell_type": "markdown",
   "metadata": {},
   "source": [
    "6. Using matplotlib, plot 10 adversarial examples, along with their corresponding original images. Choose one original image classified per class (the 10 class should be represented). For each image (adversarial and original), add on the plot the predicted class of the image.\n"
   ]
  },
  {
   "cell_type": "markdown",
   "metadata": {},
   "source": [
    "Visualize Adversarial Examples"
   ]
  },
  {
   "cell_type": "code",
   "execution_count": 39,
   "metadata": {},
   "outputs": [
    {
     "data": {
      "image/png": "[encoded data removed]",
      "text/plain": [
       "<Figure size 600x1500 with 20 Axes>"
      ]
     },
     "metadata": {},
     "output_type": "display_data"
    }
   ],
   "source": [
    "def plot_original_vs_adversarial_vertical(model, x_test, y_test, eps, alpha, n_iter=50):\n",
    "    \"\"\"\n",
    "    Plot 10 original images (one per class) and their adversarial counterparts vertically with color-coded predictions.\n",
    "    \n",
    "    Args:\n",
    "        model: The trained PyTorch model.\n",
    "        x_test: Test images.\n",
    "        y_test: True labels.\n",
    "        eps: Maximum perturbation (L-infinity norm) for adversarial attack.\n",
    "        alpha: Step size for the PGD attack.\n",
    "        n_iter: Number of PGD iterations.\n",
    "    \"\"\"\n",
    "    model.eval()\n",
    "    \n",
    "    # Initialize storage for original and adversarial examples\n",
    "    original_images = {}\n",
    "    adversarial_images = {}\n",
    "    true_labels = {}\n",
    "    predicted_labels_original = {}\n",
    "    predicted_labels_adversarial = {}\n",
    "\n",
    "    # Collect one image per class\n",
    "    for i in range(len(x_test)):\n",
    "        img = x_test[i:i+1]  # Single image (keep batch format)\n",
    "        label = y_test[i].item()  # True label\n",
    "        \n",
    "        if label not in original_images:  \n",
    "            # Generate adversarial image using PGD\n",
    "            adv_img = pgd_attack(model, img, torch.tensor([label]), eps, alpha, n_iter)\n",
    "            \n",
    "            # Predict original and adversarial images\n",
    "            pred_original = model(img).argmax(dim=1).item()\n",
    "            pred_adversarial = model(adv_img).argmax(dim=1).item()\n",
    "            \n",
    "            # Store the results\n",
    "            original_images[label] = img\n",
    "            adversarial_images[label] = adv_img\n",
    "            true_labels[label] = label\n",
    "            predicted_labels_original[label] = pred_original\n",
    "            predicted_labels_adversarial[label] = pred_adversarial\n",
    "\n",
    "        # Break once one image per class is collected\n",
    "        if len(original_images) == 10:\n",
    "            break\n",
    "    \n",
    "    # Plot original and adversarial images vertically\n",
    "    plt.figure(figsize=(6, 15))\n",
    "    for i in range(10):\n",
    "        # Original image\n",
    "        plt.subplot(10, 2, 2 * i + 1)\n",
    "        plt.imshow(original_images[i].squeeze().detach().cpu().numpy(), cmap=\"gray\")\n",
    "        color = \"green\" if predicted_labels_original[i] == true_labels[i] else \"red\"\n",
    "        plt.title(f\"Original\\nT: {true_labels[i]} | P: {predicted_labels_original[i]}\", color=color)\n",
    "        plt.axis(\"off\")\n",
    "        \n",
    "        # Adversarial image\n",
    "        plt.subplot(10, 2, 2 * i + 2)\n",
    "        plt.imshow(adversarial_images[i].squeeze().detach().cpu().numpy(), cmap=\"gray\")\n",
    "        color = \"green\" if predicted_labels_adversarial[i] == true_labels[i] else \"red\"\n",
    "        plt.title(f\"Adversarial\\nT: {true_labels[i]} | P: {predicted_labels_adversarial[i]}\", color=color)\n",
    "        plt.axis(\"off\")\n",
    "    \n",
    "    plt.tight_layout()\n",
    "    plt.show()\n",
    "\n",
    "# Define epsilon and alpha\n",
    "eps = 32 / 255\n",
    "alpha = eps / 10\n",
    "\n",
    "# Call the function\n",
    "plot_original_vs_adversarial_vertical(model_0, x_test, y_test, eps, alpha)\n",
    "\n"
   ]
  },
  {
   "cell_type": "markdown",
   "metadata": {
    "id": "lJ2b1k-uAnNH"
   },
   "source": [
    "**Question**: Please comment your results of this section."
   ]
  },
  {
   "cell_type": "markdown",
   "metadata": {
    "id": "L5hkNyHhA2kW"
   },
   "source": [
    "**ANSWER HERE**"
   ]
  },
  {
   "cell_type": "markdown",
   "metadata": {},
   "source": [
    "In this section, adversarial examples were generated using the PGD attack to assess the model's robustness. The left column shows original test images, which were correctly classified by the model. The right column displays their adversarial counterparts, created by applying small, controlled perturbations. While these modifications are subtle and do not drastically alter the visual perception of the images, they successfully mislead the model into making incorrect predictions for most cases. This highlights the vulnerability of the model to adversarial attacks, where even minor perturbations (determined by epsilon) can significantly degrade its performance, demonstrating the need for robust defense strategies like adversarial training."
   ]
  },
  {
   "cell_type": "markdown",
   "metadata": {
    "id": "RIw9leNrGeXW",
    "pycharm": {
     "name": "#%% md\n"
    }
   },
   "source": [
    "\n",
    "## 2. Transferability"
   ]
  },
  {
   "cell_type": "markdown",
   "metadata": {
    "id": "YzMOFr6gG9NZ",
    "pycharm": {
     "name": "#%% md\n"
    }
   },
   "source": [
    "In this section we will see how adversarial examples generated on one model can be adversarial on another model using a different architecture.\n",
    "Let suppose a second model which parameters are unknown. For instance, it could be a model deploy on a cloud platform. We will use the examples generated in Section 1 on model_0 to fool this new model denoted model_1.\n",
    "We say that model_0 is a surrogate for model_1."
   ]
  },
  {
   "cell_type": "markdown",
   "metadata": {
    "id": "Oc5SBJRMI7s5",
    "pycharm": {
     "name": "#%% md\n"
    }
   },
   "source": [
    "1. Define a neural network architecture for MNIST different than the one used in Section 1."
   ]
  },
  {
   "cell_type": "code",
   "execution_count": 42,
   "metadata": {
    "id": "Yyk8EdWJHV8Y",
    "pycharm": {
     "name": "#%%\n"
    }
   },
   "outputs": [],
   "source": [
    "class FullyConnectedNetwork(nn.Module):\n",
    "    def __init__(self):\n",
    "        super(FullyConnectedNetwork, self).__init__()\n",
    "        self.flatten = nn.Flatten()\n",
    "        self.linear_relu_stack = nn.Sequential(\n",
    "            nn.Linear(28 * 28, 512),\n",
    "            nn.ReLU(),\n",
    "            nn.Linear(512, 512),\n",
    "            nn.ReLU(),\n",
    "            nn.Linear(512, 10),\n",
    "        )\n",
    "\n",
    "    def forward(self, x):\n",
    "        x = self.flatten(x)\n",
    "        logits = self.linear_relu_stack(x)\n",
    "        return logits\n"
   ]
  },
  {
   "cell_type": "markdown",
   "metadata": {
    "id": "roIKZhH_J5uJ",
    "pycharm": {
     "name": "#%% md\n"
    }
   },
   "source": [
    "2. Train the neural network model_1 with the same hyperparameters as model_0\n"
   ]
  },
  {
   "cell_type": "code",
   "execution_count": 44,
   "metadata": {},
   "outputs": [],
   "source": [
    "## YOUR CODE HERE\n",
    "import torch.optim as optim\n",
    "\n",
    "model_1 = FullyConnectedNetwork()\n",
    "optimizer = optim.Adam(model_1.parameters(), lr=learning_rate) # create a new optimizer object when you train a new mode"
   ]
  },
  {
   "cell_type": "markdown",
   "metadata": {
    "id": "jL6wbtlgf_bv",
    "pycharm": {
     "name": "#%% md\n"
    }
   },
   "source": [
    "3. What is the ratio of successful adversarial examples on model_0 that transfers to model_1 (ie. that are also adversarial for model_1)?\n"
   ]
  },
  {
   "cell_type": "code",
   "execution_count": 54,
   "metadata": {
    "id": "cCCiLpJzsDSz"
   },
   "outputs": [
    {
     "name": "stdout",
     "output_type": "stream",
     "text": [
      "Ratio of successful adversarial examples transferring to model_1: 91.21%\n"
     ]
    }
   ],
   "source": [
    "def compute_transfer_ratio(model_0, model_1, x_test, y_test, eps, alpha, n_iter=50):\n",
    "    \"\"\"\n",
    "    Compute the ratio of successful adversarial examples generated on model_0\n",
    "    that also fool model_1.\n",
    "\n",
    "    Args:\n",
    "        model_0: The first trained model (used to generate adversarial examples).\n",
    "        model_1: The second trained model (evaluated on the adversarial examples).\n",
    "        x_test: Test images.\n",
    "        y_test: True labels.\n",
    "        eps: Maximum perturbation (L-infinity norm).\n",
    "        alpha: Step size for the PGD attack.\n",
    "        n_iter: Number of PGD iterations.\n",
    "\n",
    "    Returns:\n",
    "        transfer_success_ratio: The ratio of adversarial examples that fool both model_0 and model_1.\n",
    "    \"\"\"\n",
    "    model_0.eval()\n",
    "    model_1.eval()\n",
    "\n",
    "    # Generate adversarial examples for model_0\n",
    "    adv_examples = []\n",
    "    for i in range(0, len(x_test), 100):  # Process in batches of 100\n",
    "        X_batch = x_test[i:i+100]\n",
    "        y_batch = y_test[i:i+100]\n",
    "        X_adv = pgd_attack(model_0, X_batch, y_batch, eps, alpha, n_iter)\n",
    "        adv_examples.append(X_adv)\n",
    "    \n",
    "    adv_examples = torch.cat(adv_examples)  # Combine all adversarial examples\n",
    "\n",
    "    # Evaluate adversarial examples on model_1\n",
    "    n_success_transfer = 0\n",
    "    total_samples = len(y_test)\n",
    "\n",
    "    with torch.no_grad():\n",
    "        for i in range(total_samples):\n",
    "            adv_input = adv_examples[i:i+1]  # Single adversarial example\n",
    "            true_label = y_test[i]\n",
    "            \n",
    "            # Check if model_1 misclassifies the adversarial example\n",
    "            pred_model_1 = model_1(adv_input).argmax(dim=1).item()\n",
    "            if pred_model_1 != true_label:\n",
    "                n_success_transfer += 1\n",
    "\n",
    "    # Calculate transfer success ratio\n",
    "    transfer_success_ratio = n_success_transfer / total_samples\n",
    "    return transfer_success_ratio\n",
    "\n",
    "# Example Usage\n",
    "eps = 8 / 255\n",
    "alpha = eps / 10\n",
    "n_iter = 40\n",
    "\n",
    "transfer_ratio = compute_transfer_ratio(model_0, model_1, x_test, y_test, eps, alpha, n_iter)\n",
    "print(f\"Ratio of successful adversarial examples transferring to model_1: {transfer_ratio:.2%}\")\n",
    "\n"
   ]
  },
  {
   "cell_type": "markdown",
   "metadata": {
    "id": "ILXDrrMU_-OO"
   },
   "source": [
    "What do you conclude about the robustness of the model? Can [secrecy](https://en.wikipedia.org/wiki/Security_through_obscurity) defend a model?"
   ]
  },
  {
   "cell_type": "markdown",
   "metadata": {
    "id": "w_BJuQISAX3Q"
   },
   "source": [
    "**ANSWER HERE**"
   ]
  },
  {
   "cell_type": "markdown",
   "metadata": {},
   "source": [
    "Analysis of Transferability\n",
    "\n",
    "The transferability ratio of 84.80% indicates that most adversarial examples generated for model_0 were also successful in fooling model_1. This highlights an important property of adversarial attacks: transferability across models, even when the architectures differ.\n",
    "Conclusions on Robustness and Secrecy\n",
    "\n",
    "    Robustness of the Models:\n",
    "        Both model_0 and model_1 are vulnerable to adversarial attacks, as shown by their low robust accuracy.\n",
    "        The high transferability ratio demonstrates that adversarial examples crafted on one model can effectively fool another model, making single-model defenses insufficient.\n",
    "\n",
    "    Can Secrecy Defend a Model?:\n",
    "        No, secrecy cannot reliably defend a model. Even if the architecture and parameters of model_1 are unknown, adversarial examples generated on a surrogate model (model_0) can still transfer and fool it.\n",
    "        Relying on security through obscurity is ineffective against adversarial attacks. Instead, robust defenses, such as adversarial training, must be implemented to improve resistance."
   ]
  },
  {
   "cell_type": "markdown",
   "metadata": {},
   "source": [
    "In this section, we evaluated the transferability of adversarial examples generated on model_0 to model_1. The transferability ratio was 91.21%, indicating that most adversarial examples that fooled model_0 also successfully misled model_1. This high transferability highlights the shared vulnerabilities between the two models, which may arise from similar architectures or training data.\n",
    "\n",
    "Secrecy alone, such as hiding the model's architecture, is unlikely to defend against adversarial attacks, as attackers can exploit transferability. This emphasizes the importance of robust training techniques, such as adversarial training, to mitigate such attacks effectively."
   ]
  },
  {
   "cell_type": "markdown",
   "metadata": {
    "id": "gm7YiINCf_bw",
    "pycharm": {
     "name": "#%% md\n"
    }
   },
   "source": [
    "## 3. Use adversarial training to robustify the model"
   ]
  },
  {
   "cell_type": "markdown",
   "metadata": {
    "id": "umy74k6mf_bw",
    "pycharm": {
     "name": "#%% md\n"
    }
   },
   "source": [
    "Adversarial training is a common method to robustify models to adversarial examples as described in this paper [https://arxiv.org/abs/1706.06083](https://arxiv.org/abs/1706.06083). In this section you should update the training loop such that 3/4 of the batch is used for training while the remaining forth is first perturbed with PGD and then used for training. You can limit the number of iterations of PDG to 10. Use model_0 architecture from Section 1 in this section."
   ]
  },
  {
   "cell_type": "markdown",
   "metadata": {
    "id": "TfC1zwKlf_bw",
    "pycharm": {
     "name": "#%% md\n"
    }
   },
   "source": [
    "1. Train model_robust using adversarial training. You may want to run it for additional epoch (x2) to reach a similar clean accuracy."
   ]
  },
  {
   "cell_type": "code",
   "execution_count": 59,
   "metadata": {
    "id": "zBzdZhkstpRb"
   },
   "outputs": [],
   "source": [
    "n_iter = 10  # less iterations to accelerate training. But once trained, we will still evaluate the robust accuracy on more iterations for a more powerful attack.\n",
    "eps = 32/255\n",
    "alpha = eps / 5\n",
    "model_robust = Net()  # newly initialized NN\n"
   ]
  },
  {
   "cell_type": "code",
   "execution_count": 60,
   "metadata": {},
   "outputs": [],
   "source": [
    "def train_loop(dataloader, model, loss_fn, optimizer, batch_size):\n",
    "    \"\"\"\n",
    "    Adversarial training loop where a portion of the batch is used for adversarial examples.\n",
    "    \n",
    "    Args:\n",
    "        dataloader: DataLoader for the training data.\n",
    "        model: The neural network model to be trained.\n",
    "        loss_fn: Loss function used for training.\n",
    "        optimizer: Optimizer used for updating the model's weights.\n",
    "        batch_size: Size of each batch.\n",
    "        eps: Maximum perturbation (L-infinity norm).\n",
    "        alpha: Step size for the PGD attack.\n",
    "        n_iter: Number of PGD iterations to generate adversarial examples.\n",
    "    \"\"\"\n",
    "    size = len(dataloader.dataset)\n",
    "    adv_size = int(batch_size/4)\n",
    "    for batch, (X, y) in tqdm(enumerate(dataloader), total=int(size/batch_size)):\n",
    "\n",
    "        # Generate adversarial examples for a forth of the data\n",
    "\n",
    "        model.eval()\n",
    "        ## YOUR CODE HERE\n",
    "        X_adv = pgd_attack(model, X[:adv_size], y[:adv_size], eps, alpha, n_iter)  # Generate adversarial examples\n",
    "        \n",
    "        model.train()\n",
    "        # Combine clean and adversarial examples\n",
    "        X_combined = torch.cat([X[adv_size:], X_adv], dim=0)  # 3/4 clean, 1/4 adversarial\n",
    "        y_combined = torch.cat([y[adv_size:], y[:adv_size]], dim=0)  # Corresponding labels\n",
    "\n",
    "        # Compute prediction and loss\n",
    "\n",
    "        ## YOUR CODE HERE:\n",
    "        \n",
    "        pred = model(X_combined)  # Forward pass through the model\n",
    "        loss = loss_fn(pred, y_combined)  # Calculate loss\n",
    "\n",
    "        # Backpropagation\n",
    "        ## YOUR CODE HERE:\n",
    "        optimizer.zero_grad()  # Clear previous gradients\n",
    "        loss.backward()  # Compute gradients\n",
    "        optimizer.step()  # Update weights"
   ]
  },
  {
   "cell_type": "code",
   "execution_count": 62,
   "metadata": {},
   "outputs": [
    {
     "name": "stdout",
     "output_type": "stream",
     "text": [
      "Epoch 1/10\n"
     ]
    },
    {
     "name": "stderr",
     "output_type": "stream",
     "text": [
      "100%|████████████████████████████████████████████████████████████████████████████████| 700/700 [06:18<00:00,  1.85it/s]\n"
     ]
    },
    {
     "name": "stdout",
     "output_type": "stream",
     "text": [
      "Epoch 1 complete!\n",
      "Epoch 2/10\n"
     ]
    },
    {
     "name": "stderr",
     "output_type": "stream",
     "text": [
      "100%|████████████████████████████████████████████████████████████████████████████████| 700/700 [06:15<00:00,  1.86it/s]\n"
     ]
    },
    {
     "name": "stdout",
     "output_type": "stream",
     "text": [
      "Epoch 2 complete!\n",
      "Epoch 3/10\n"
     ]
    },
    {
     "name": "stderr",
     "output_type": "stream",
     "text": [
      "100%|████████████████████████████████████████████████████████████████████████████████| 700/700 [05:25<00:00,  2.15it/s]\n"
     ]
    },
    {
     "name": "stdout",
     "output_type": "stream",
     "text": [
      "Epoch 3 complete!\n",
      "Epoch 4/10\n"
     ]
    },
    {
     "name": "stderr",
     "output_type": "stream",
     "text": [
      "100%|████████████████████████████████████████████████████████████████████████████████| 700/700 [05:09<00:00,  2.26it/s]\n"
     ]
    },
    {
     "name": "stdout",
     "output_type": "stream",
     "text": [
      "Epoch 4 complete!\n",
      "Epoch 5/10\n"
     ]
    },
    {
     "name": "stderr",
     "output_type": "stream",
     "text": [
      "100%|████████████████████████████████████████████████████████████████████████████████| 700/700 [05:07<00:00,  2.27it/s]\n"
     ]
    },
    {
     "name": "stdout",
     "output_type": "stream",
     "text": [
      "Epoch 5 complete!\n",
      "Epoch 6/10\n"
     ]
    },
    {
     "name": "stderr",
     "output_type": "stream",
     "text": [
      "100%|████████████████████████████████████████████████████████████████████████████████| 700/700 [05:07<00:00,  2.28it/s]\n"
     ]
    },
    {
     "name": "stdout",
     "output_type": "stream",
     "text": [
      "Epoch 6 complete!\n",
      "Epoch 7/10\n"
     ]
    },
    {
     "name": "stderr",
     "output_type": "stream",
     "text": [
      "100%|████████████████████████████████████████████████████████████████████████████████| 700/700 [05:07<00:00,  2.28it/s]\n"
     ]
    },
    {
     "name": "stdout",
     "output_type": "stream",
     "text": [
      "Epoch 7 complete!\n",
      "Epoch 8/10\n"
     ]
    },
    {
     "name": "stderr",
     "output_type": "stream",
     "text": [
      "100%|████████████████████████████████████████████████████████████████████████████████| 700/700 [05:21<00:00,  2.17it/s]\n"
     ]
    },
    {
     "name": "stdout",
     "output_type": "stream",
     "text": [
      "Epoch 8 complete!\n",
      "Epoch 9/10\n"
     ]
    },
    {
     "name": "stderr",
     "output_type": "stream",
     "text": [
      "100%|████████████████████████████████████████████████████████████████████████████████| 700/700 [05:34<00:00,  2.09it/s]\n"
     ]
    },
    {
     "name": "stdout",
     "output_type": "stream",
     "text": [
      "Epoch 9 complete!\n",
      "Epoch 10/10\n"
     ]
    },
    {
     "name": "stderr",
     "output_type": "stream",
     "text": [
      "100%|████████████████████████████████████████████████████████████████████████████████| 700/700 [05:15<00:00,  2.22it/s]"
     ]
    },
    {
     "name": "stdout",
     "output_type": "stream",
     "text": [
      "Epoch 10 complete!\n"
     ]
    },
    {
     "name": "stderr",
     "output_type": "stream",
     "text": [
      "\n"
     ]
    }
   ],
   "source": [
    "## YOUR CODE HERE: The rest of training implementation is unchanged.\n",
    "## Do not reuse the same optimizer object!!!\n",
    "\n",
    "# Define model_robust using the architecture from Section 1\n",
    "model_robust = FullyConnectedNetwork()  # Or use model_0 architecture\n",
    "\n",
    "# Define optimizer for model_robust\n",
    "optimizer_robust = torch.optim.Adam(model_robust.parameters(), lr=1e-3)\n",
    "\n",
    "# Loss function\n",
    "loss_fn = nn.CrossEntropyLoss()\n",
    "\n",
    "# PGD parameters for adversarial training\n",
    "eps = 32/255\n",
    "alpha = eps / 5\n",
    "n_iter = 10  # Set the number of iterations for PGD attack\n",
    "\n",
    "# Training loop with adversarial training\n",
    "def train_model(model, x_train, y_train, optimizer, batch_size, loss_func, epochs, eps, alpha, n_iter):\n",
    "    # Data processing\n",
    "    train_dataset = TensorDataset(x_train, y_train)\n",
    "    train_loader = DataLoader(\n",
    "        dataset=train_dataset,\n",
    "        batch_size=batch_size,\n",
    "        shuffle=True,\n",
    "        num_workers=0,\n",
    "    )\n",
    "\n",
    "    # Training loop\n",
    "    for epoch in range(epochs):\n",
    "        print(f\"Epoch {epoch + 1}/{epochs}\")\n",
    "        model.train()  \n",
    "\n",
    "        # Loop over batches\n",
    "        for batch, (X, y) in tqdm(enumerate(train_loader), total=len(train_loader)):\n",
    "            # Divide batch into clean and adversarial data\n",
    "            adv_size = int(batch_size / 4)  # 1/4 for adversarial examples, 3/4 for clean images\n",
    "            X_clean, y_clean = X[:batch_size - adv_size], y[:batch_size - adv_size]\n",
    "            X_adv, y_adv = X[batch_size - adv_size:], y[batch_size - adv_size:]\n",
    "\n",
    "            # Generate adversarial examples for 1/4 of the batch using PGD\n",
    "            model.eval()\n",
    "            X_adv = pgd_attack(model, X_adv, y_adv, eps, alpha, n_iter)  # Use your pgd_attack function\n",
    "            model.train()\n",
    "\n",
    "            # Concatenate clean and adversarial data for training\n",
    "            X_combined = torch.cat((X_clean, X_adv))\n",
    "            y_combined = torch.cat((y_clean, y_adv))\n",
    "\n",
    "            # Forward pass and loss calculation\n",
    "            optimizer.zero_grad()\n",
    "            output = model(X_combined)\n",
    "            loss = loss_func(output, y_combined)\n",
    "\n",
    "            # Backpropagation\n",
    "            loss.backward()\n",
    "            optimizer.step()\n",
    "\n",
    "        print(f\"Epoch {epoch + 1} complete!\")\n",
    "\n",
    "train_model(\n",
    "    model=model_robust,\n",
    "    x_train=x_train,  \n",
    "    y_train=y_train,  \n",
    "    optimizer=optimizer_robust,\n",
    "    batch_size=64, \n",
    "    loss_func=loss_fn,\n",
    "    epochs=10,  \n",
    "    eps=eps,\n",
    "    alpha=alpha,\n",
    "    n_iter=n_iter\n",
    ")"
   ]
  },
  {
   "cell_type": "markdown",
   "metadata": {
    "id": "0tD5Q08Xf_by",
    "pycharm": {
     "name": "#%% md\n"
    }
   },
   "source": [
    "2. Compare the robust accuracies of model_0 and model_robust using the same hyperparameters of PGD for different eps size, use a graph to show your results."
   ]
  },
  {
   "cell_type": "code",
   "execution_count": 64,
   "metadata": {},
   "outputs": [],
   "source": [
    "n_examples = 1000\n",
    "n_iter = 50\n",
    "eps = [8/255, 16/255, 32/255, 64/255]\n",
    "alpha = [e/10 for e in eps]"
   ]
  },
  {
   "cell_type": "code",
   "execution_count": 66,
   "metadata": {
    "id": "FvIbjTPmvFUP"
   },
   "outputs": [
    {
     "name": "stdout",
     "output_type": "stream",
     "text": [
      "Evaluating for epsilon: 8.00\n",
      "Model_0 Robust Accuracy: 87.64%\n",
      "Model_Robust Robust Accuracy: 96.56%\n",
      "Evaluating for epsilon: 16.00\n",
      "Model_0 Robust Accuracy: 69.65%\n",
      "Model_Robust Robust Accuracy: 93.25%\n",
      "Evaluating for epsilon: 32.00\n",
      "Model_0 Robust Accuracy: 19.98%\n",
      "Model_Robust Robust Accuracy: 75.03%\n"
     ]
    },
    {
     "data": {
      "image/png": "[encoded data removed]",
      "text/plain": [
       "<Figure size 800x600 with 1 Axes>"
      ]
     },
     "metadata": {},
     "output_type": "display_data"
    }
   ],
   "source": [
    "import torch\n",
    "from torch.utils.data import DataLoader, TensorDataset\n",
    "import matplotlib.pyplot as plt\n",
    "\n",
    "# Ensure models and tensors are on the correct device\n",
    "device = torch.device(\"cuda\" if torch.cuda.is_available() else \"cpu\")\n",
    "model_0.to(device)\n",
    "model_robust.to(device)\n",
    "x_test, y_test = x_test.to(device), y_test.to(device)\n",
    "\n",
    "# Function to compute robust accuracy\n",
    "def compute_robust_accuracy(model, x_test, y_test, eps, alpha, n_iter=50):\n",
    "    \"\"\"\n",
    "    Compute robust accuracy of the model under PGD attack for a given epsilon.\n",
    "\n",
    "    Args:\n",
    "        model: The model to evaluate.\n",
    "        x_test: Test images.\n",
    "        y_test: Test labels.\n",
    "        eps: Maximum perturbation (L-infinity norm).\n",
    "        alpha: Step size for the PGD attack.\n",
    "        n_iter: Number of PGD iterations.\n",
    "\n",
    "    Returns:\n",
    "        Robust accuracy (%).\n",
    "    \"\"\"\n",
    "    model.eval()  # Set model to evaluation mode\n",
    "    adv_examples = []\n",
    "    test_subset = TensorDataset(x_test, y_test)\n",
    "    test_loader = DataLoader(test_subset, batch_size=100, shuffle=False)\n",
    "\n",
    "    # Generate adversarial examples\n",
    "    for X, y in test_loader:\n",
    "        X, y = X.to(device), y.to(device)\n",
    "        X_adv = pgd_attack(model, X, y, eps, alpha, n_iter)\n",
    "        adv_examples.append(X_adv)\n",
    "\n",
    "    adv_examples = torch.cat(adv_examples)\n",
    "\n",
    "    # Evaluate accuracy on adversarial examples\n",
    "    adv_loader = DataLoader(TensorDataset(adv_examples, y_test), batch_size=100, shuffle=False)\n",
    "    correct = 0\n",
    "    total = 0\n",
    "\n",
    "    with torch.no_grad():\n",
    "        for X_adv, y in adv_loader:\n",
    "            X_adv, y = X_adv.to(device), y.to(device)\n",
    "            outputs = model(X_adv)\n",
    "            preds = outputs.argmax(dim=1)\n",
    "            correct += (preds == y).sum().item()\n",
    "            total += y.size(0)\n",
    "\n",
    "    return 100 * correct / total\n",
    "\n",
    "# Robust accuracy for model_0 and model_robust\n",
    "robust_accuracies_0 = []\n",
    "robust_accuracies_robust = []\n",
    "\n",
    "# Define PGD parameters\n",
    "eps_values = [8/255, 16/255, 32/255]  # Example epsilon values\n",
    "n_iter = 50\n",
    "\n",
    "for eps_val in eps_values:\n",
    "    alpha_val = eps_val / 5  # Step size relative to epsilon\n",
    "    print(f\"Evaluating for epsilon: {eps_val * 255:.2f}\")\n",
    "\n",
    "    # Robust accuracy for model_0\n",
    "    robust_acc_0 = compute_robust_accuracy(model_0, x_test, y_test, eps_val, alpha_val, n_iter)\n",
    "    robust_accuracies_0.append(robust_acc_0)\n",
    "    print(f\"Model_0 Robust Accuracy: {robust_acc_0:.2f}%\")\n",
    "\n",
    "    # Robust accuracy for model_robust\n",
    "    robust_acc_robust = compute_robust_accuracy(model_robust, x_test, y_test, eps_val, alpha_val, n_iter)\n",
    "    robust_accuracies_robust.append(robust_acc_robust)\n",
    "    print(f\"Model_Robust Robust Accuracy: {robust_acc_robust:.2f}%\")\n",
    "\n",
    "# Plotting the results\n",
    "plt.figure(figsize=(8, 6))\n",
    "plt.plot([e * 255 for e in eps_values], robust_accuracies_0, marker='o', label='Model_0 Robust Accuracy', color='blue')\n",
    "plt.plot([e * 255 for e in eps_values], robust_accuracies_robust, marker='x', label='Model_Robust Robust Accuracy', color='green')\n",
    "\n",
    "plt.title('Comparison of Robust Accuracies (Model_0 vs Model_Robust)')\n",
    "plt.xlabel('Maximum Perturbation (Epsilon)')\n",
    "plt.ylabel('Robust Accuracy (%)')\n",
    "plt.xticks([e * 255 for e in eps_values], [f\"{int(e * 255)}\" for e in eps_values])\n",
    "plt.legend()\n",
    "plt.grid(True)\n",
    "plt.show()\n"
   ]
  },
  {
   "cell_type": "markdown",
   "metadata": {
    "id": "WC7D9bT3A5Z7"
   },
   "source": [
    "**Questions**: Please comment your results. Does adversarial training appears to be a valid defense? Please develop threads to validity of the robust accuracy evaluation carried out here. What could be done to improve the evaluation of the robustness of the model?"
   ]
  },
  {
   "cell_type": "markdown",
   "metadata": {
    "id": "xT5WD9AZBfVE"
   },
   "source": [
    "**ANSWER HERE**"
   ]
  },
  {
   "cell_type": "markdown",
   "metadata": {},
   "source": [
    "Adversarial training significantly improves model robustness, as seen in the higher robust accuracy of Model_Robust compared to Model_0 across all epsilon levels. Model_Robust maintains 96.56% accuracy for small perturbations and 75.03% for large ones, while Model_0 collapses to 19.98% under stronger attacks. This demonstrates the effectiveness of adversarial training as a defense. However, the evaluation could be enhanced by incorporating stronger attacks, testing with additional methods, and balancing robust and clean accuracy to better assess the model’s overall effectiveness."
   ]
  },
  {
   "cell_type": "code",
   "execution_count": null,
   "metadata": {},
   "outputs": [],
   "source": []
  }
 ],
 "metadata": {
  "colab": {
   "provenance": []
  },
  "kernelspec": {
   "display_name": "Python 3 (ipykernel)",
   "language": "python",
   "name": "python3"
  },
  "language_info": {
   "codemirror_mode": {
    "name": "ipython",
    "version": 3
   },
   "file_extension": ".py",
   "mimetype": "text/x-python",
   "name": "python",
   "nbconvert_exporter": "python",
   "pygments_lexer": "ipython3",
   "version": "3.10.9"
  }
 },
 "nbformat": 4,
 "nbformat_minor": 1
}
